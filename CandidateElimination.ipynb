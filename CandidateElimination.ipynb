{
 "cells": [
  {
   "cell_type": "code",
   "execution_count": 28,
   "metadata": {
    "collapsed": true
   },
   "outputs": [],
   "source": [
    "import pandas as pd\n",
    "import numpy as np"
   ]
  },
  {
   "cell_type": "code",
   "execution_count": 29,
   "metadata": {},
   "outputs": [],
   "source": [
    "df=pd.read_csv(\"enjoy_sport.csv\")"
   ]
  },
  {
   "cell_type": "code",
   "execution_count": 30,
   "metadata": {},
   "outputs": [
    {
     "data": {
      "text/html": [
       "<div>\n",
       "<style>\n",
       "    .dataframe thead tr:only-child th {\n",
       "        text-align: right;\n",
       "    }\n",
       "\n",
       "    .dataframe thead th {\n",
       "        text-align: left;\n",
       "    }\n",
       "\n",
       "    .dataframe tbody tr th {\n",
       "        vertical-align: top;\n",
       "    }\n",
       "</style>\n",
       "<table border=\"1\" class=\"dataframe\">\n",
       "  <thead>\n",
       "    <tr style=\"text-align: right;\">\n",
       "      <th></th>\n",
       "      <th>Sky</th>\n",
       "      <th>Temperature</th>\n",
       "      <th>Humid</th>\n",
       "      <th>Wind</th>\n",
       "      <th>Water</th>\n",
       "      <th>Forecast</th>\n",
       "      <th>Enjoy?</th>\n",
       "    </tr>\n",
       "  </thead>\n",
       "  <tbody>\n",
       "    <tr>\n",
       "      <th>0</th>\n",
       "      <td>Sunny</td>\n",
       "      <td>Warm</td>\n",
       "      <td>Normal</td>\n",
       "      <td>Strong</td>\n",
       "      <td>Warm</td>\n",
       "      <td>Same</td>\n",
       "      <td>Yes</td>\n",
       "    </tr>\n",
       "    <tr>\n",
       "      <th>1</th>\n",
       "      <td>Sunny</td>\n",
       "      <td>Warm</td>\n",
       "      <td>High</td>\n",
       "      <td>Strong</td>\n",
       "      <td>Warm</td>\n",
       "      <td>Same</td>\n",
       "      <td>Yes</td>\n",
       "    </tr>\n",
       "    <tr>\n",
       "      <th>2</th>\n",
       "      <td>Rainy</td>\n",
       "      <td>Cold</td>\n",
       "      <td>High</td>\n",
       "      <td>Strong</td>\n",
       "      <td>Warm</td>\n",
       "      <td>Change</td>\n",
       "      <td>No</td>\n",
       "    </tr>\n",
       "    <tr>\n",
       "      <th>3</th>\n",
       "      <td>Sunny</td>\n",
       "      <td>Warm</td>\n",
       "      <td>High</td>\n",
       "      <td>Strong</td>\n",
       "      <td>Cool</td>\n",
       "      <td>Change</td>\n",
       "      <td>Yes</td>\n",
       "    </tr>\n",
       "  </tbody>\n",
       "</table>\n",
       "</div>"
      ],
      "text/plain": [
       "     Sky Temperature   Humid    Wind Water Forecast Enjoy?\n",
       "0  Sunny        Warm  Normal  Strong  Warm     Same    Yes\n",
       "1  Sunny        Warm    High  Strong  Warm     Same    Yes\n",
       "2  Rainy        Cold    High  Strong  Warm   Change     No\n",
       "3  Sunny        Warm    High  Strong  Cool   Change    Yes"
      ]
     },
     "execution_count": 30,
     "metadata": {},
     "output_type": "execute_result"
    }
   ],
   "source": [
    "df"
   ]
  },
  {
   "cell_type": "code",
   "execution_count": 33,
   "metadata": {
    "collapsed": true
   },
   "outputs": [],
   "source": [
    "S=['phi']*(df.shape[1]-1)\n",
    "G=['?']*(df.shape[1]-1)\n",
    "gt=[G]"
   ]
  },
  {
   "cell_type": "code",
   "execution_count": 34,
   "metadata": {},
   "outputs": [
    {
     "name": "stdout",
     "output_type": "stream",
     "text": [
      "Initial specific boundary S =  ['phi', 'phi', 'phi', 'phi', 'phi', 'phi']\n",
      "Initial generic boundary G =  [['?', '?', '?', '?', '?', '?']]\n",
      "S= ['Sunny', 'Warm', 'Normal', 'Strong', 'Warm', 'Same']\n",
      "G= [['?', '?', '?', '?', '?', '?']]\n",
      "S= ['Sunny', 'Warm', '?', 'Strong', 'Warm', 'Same']\n",
      "G= [['?', '?', '?', '?', '?', '?']]\n",
      "S remains same.\n",
      "G= [['Sunny', '?', '?', '?', '?', '?'], ['?', 'Warm', '?', '?', '?', '?'], ['?', '?', 'Normal', '?', '?', '?'], ['?', '?', '?', '?', '?', 'Same']]\n",
      "S= ['Sunny', 'Warm', '?', 'Strong', '?', '?']\n",
      "G= [['Sunny', '?', '?', '?', '?', '?'], ['?', 'Warm', '?', '?', '?', '?']]\n",
      "Final specific boundary S =  ['Sunny', 'Warm', '?', 'Strong', '?', '?']\n",
      "Final generic boundary G =  [['Sunny', '?', '?', '?', '?', '?'], ['?', 'Warm', '?', '?', '?', '?']]\n"
     ]
    }
   ],
   "source": [
    "\n",
    "print('Initial specific boundary S = ',S)\n",
    "print('Initial generic boundary G = ',gt)\n",
    "for i in range(len(df)):\n",
    "    if df[df.columns[-1]][i]=='Yes':\n",
    "        gen(i)\n",
    "        print('S=',S)\n",
    "        j=0\n",
    "        while j<len(gt):\n",
    "            delta=specy(i,j)\n",
    "            j=j+delta\n",
    "            j=j+1\n",
    "        print('G=',gt)\n",
    "    else:\n",
    "        for p in range(len(gt)):\n",
    "            specn(i,p)\n",
    "        print('S remains same.')\n",
    "        print('G=',gt)\n",
    "print('Final specific boundary S = ',S)\n",
    "print('Final generic boundary G = ',gt)"
   ]
  },
  {
   "cell_type": "code",
   "execution_count": 5,
   "metadata": {
    "collapsed": true
   },
   "outputs": [],
   "source": [
    "def gen(k):\n",
    "    for i in range(len(S)):\n",
    "        if S[i]=='phi':\n",
    "            S[i]=df[df.columns[i]][k]\n",
    "        elif S[i]=='?':\n",
    "            pass\n",
    "        elif S[i]==df[df.columns[i]][k]:\n",
    "            pass\n",
    "        else:\n",
    "            S[i]='?'"
   ]
  },
  {
   "cell_type": "code",
   "execution_count": 6,
   "metadata": {
    "collapsed": true
   },
   "outputs": [],
   "source": [
    "def specy(k,l):\n",
    "    for i in range(len(S)):\n",
    "        if gt[l][i]=='?':\n",
    "            pass\n",
    "        elif gt[l][i]==df[df.columns[i]][k]:\n",
    "            pass\n",
    "        else:\n",
    "            gt.pop(l)\n",
    "            return -1\n",
    "    return 0"
   ]
  },
  {
   "cell_type": "code",
   "execution_count": 25,
   "metadata": {
    "collapsed": true
   },
   "outputs": [],
   "source": [
    "def specn(k,l):\n",
    "    for i in range(len(S)):\n",
    "        if gt[l][i]=='?':\n",
    "            vals=set()\n",
    "            for m in range(k):\n",
    "                if ((df[df.columns[-1]][m]=='Yes') and (df[df.columns[i]][m]!=df[df.columns[i]][k])):\n",
    "                    vals.add(df[df.columns[i]][m])\n",
    "            for z in vals:\n",
    "                G=gt[l]\n",
    "                Q=[]\n",
    "                for vo in range(len(G)):\n",
    "                    Q.append(G[vo])\n",
    "                Q[i]=z\n",
    "                gt.append(Q)\n",
    "            if i==len(S)-1:\n",
    "                gt.pop(l)\n",
    "        elif gt[l][i]!=df[df.columns[i]][k]:\n",
    "            pass\n",
    "        else:\n",
    "            gt.pop(k)"
   ]
  },
  {
   "cell_type": "code",
   "execution_count": 22,
   "metadata": {},
   "outputs": [
    {
     "data": {
      "text/html": [
       "<div>\n",
       "<style>\n",
       "    .dataframe thead tr:only-child th {\n",
       "        text-align: right;\n",
       "    }\n",
       "\n",
       "    .dataframe thead th {\n",
       "        text-align: left;\n",
       "    }\n",
       "\n",
       "    .dataframe tbody tr th {\n",
       "        vertical-align: top;\n",
       "    }\n",
       "</style>\n",
       "<table border=\"1\" class=\"dataframe\">\n",
       "  <thead>\n",
       "    <tr style=\"text-align: right;\">\n",
       "      <th></th>\n",
       "      <th>Sky</th>\n",
       "      <th>Temperature</th>\n",
       "      <th>Humid</th>\n",
       "      <th>Wind</th>\n",
       "      <th>Water</th>\n",
       "      <th>Forecast</th>\n",
       "      <th>Enjoy?</th>\n",
       "    </tr>\n",
       "  </thead>\n",
       "  <tbody>\n",
       "    <tr>\n",
       "      <th>0</th>\n",
       "      <td>Sunny</td>\n",
       "      <td>Warm</td>\n",
       "      <td>Normal</td>\n",
       "      <td>Strong</td>\n",
       "      <td>Warm</td>\n",
       "      <td>Same</td>\n",
       "      <td>Yes</td>\n",
       "    </tr>\n",
       "    <tr>\n",
       "      <th>1</th>\n",
       "      <td>Sunny</td>\n",
       "      <td>Warm</td>\n",
       "      <td>High</td>\n",
       "      <td>Strong</td>\n",
       "      <td>Warm</td>\n",
       "      <td>Same</td>\n",
       "      <td>Yes</td>\n",
       "    </tr>\n",
       "    <tr>\n",
       "      <th>2</th>\n",
       "      <td>Rainy</td>\n",
       "      <td>Cold</td>\n",
       "      <td>High</td>\n",
       "      <td>Weak</td>\n",
       "      <td>Warm</td>\n",
       "      <td>Change</td>\n",
       "      <td>No</td>\n",
       "    </tr>\n",
       "    <tr>\n",
       "      <th>3</th>\n",
       "      <td>Sunny</td>\n",
       "      <td>Warm</td>\n",
       "      <td>High</td>\n",
       "      <td>Strong</td>\n",
       "      <td>Cool</td>\n",
       "      <td>Change</td>\n",
       "      <td>Yes</td>\n",
       "    </tr>\n",
       "  </tbody>\n",
       "</table>\n",
       "</div>"
      ],
      "text/plain": [
       "     Sky Temperature   Humid    Wind Water Forecast Enjoy?\n",
       "0  Sunny        Warm  Normal  Strong  Warm     Same    Yes\n",
       "1  Sunny        Warm    High  Strong  Warm     Same    Yes\n",
       "2  Rainy        Cold    High    Weak  Warm   Change     No\n",
       "3  Sunny        Warm    High  Strong  Cool   Change    Yes"
      ]
     },
     "execution_count": 22,
     "metadata": {},
     "output_type": "execute_result"
    }
   ],
   "source": [
    "df"
   ]
  },
  {
   "cell_type": "code",
   "execution_count": null,
   "metadata": {
    "collapsed": true
   },
   "outputs": [],
   "source": []
  }
 ],
 "metadata": {
  "kernelspec": {
   "display_name": "Python 3",
   "language": "python",
   "name": "python3"
  },
  "language_info": {
   "codemirror_mode": {
    "name": "ipython",
    "version": 3
   },
   "file_extension": ".py",
   "mimetype": "text/x-python",
   "name": "python",
   "nbconvert_exporter": "python",
   "pygments_lexer": "ipython3",
   "version": "3.6.3"
  }
 },
 "nbformat": 4,
 "nbformat_minor": 2
}
