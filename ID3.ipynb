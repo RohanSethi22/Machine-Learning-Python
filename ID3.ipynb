{
 "cells": [
  {
   "cell_type": "code",
   "execution_count": 51,
   "metadata": {},
   "outputs": [
    {
     "name": "stdout",
     "output_type": "stream",
     "text": [
      "    Day   Outlook Temperature Humidity    Wind Play\n",
      "0    D1     Sunny         Hot     High    Weak   No\n",
      "1    D2     Sunny         Hot     High  Strong   No\n",
      "2    D3  Overcast         Hot     High    Weak  Yes\n",
      "3    D4      Rain        Mild     High    Weak  Yes\n",
      "4    D5      Rain        Cool   Normal    Weak  Yes\n",
      "5    D6      Rain        Cool   Normal  Strong   No\n",
      "6    D7  Overcast        Cool   Normal  Strong  Yes\n",
      "7    D8     Sunny        Mild     High    Weak   No\n",
      "8    D9     Sunny        Cool   Normal    Weak  Yes\n",
      "9   D10      Rain        Mild   Normal    Weak  Yes\n",
      "10  D11     Sunny        Mild   Normal  Strong  Yes\n",
      "11  D12  Overcast        Mild     High  Strong  Yes\n",
      "12  D13  Overcast         Hot   Normal    Weak  Yes\n",
      "13  D14      Rain        Mild     High  Strong   No\n"
     ]
    }
   ],
   "source": [
    "import pandas as pd\n",
    "import numpy as np\n",
    "import math\n",
    "df=pd.read_csv(\"play_tennis.csv\")\n",
    "print(df)"
   ]
  },
  {
   "cell_type": "code",
   "execution_count": 132,
   "metadata": {},
   "outputs": [],
   "source": [
    "def entropy(db):\n",
    "    ent=0\n",
    "    tc=db[db.columns[-1]].value_counts()\n",
    "    for i in range(tc.size):\n",
    "        pi=tc[i]/len(db)\n",
    "        ent=ent-pi*math.log2(pi)\n",
    "    return ent"
   ]
  },
  {
   "cell_type": "code",
   "execution_count": 133,
   "metadata": {},
   "outputs": [
    {
     "data": {
      "text/plain": [
       "0.94028595867063114"
      ]
     },
     "execution_count": 133,
     "metadata": {},
     "output_type": "execute_result"
    }
   ],
   "source": [
    "entropy(df)"
   ]
  },
  {
   "cell_type": "code",
   "execution_count": 158,
   "metadata": {},
   "outputs": [],
   "source": [
    "def gain(db):\n",
    "    gn=[0]*(len(db.columns)-1)\n",
    "    for ci in range(1,len(db.columns)-1):\n",
    "        gn[ci]=entropy(db)\n",
    "        cv=db[db.columns[ci]].value_counts()\n",
    "        for val in range(len(cv)):\n",
    "            mdb=db[db[db.columns[ci]]==cv.index[val]]\n",
    "            gn[ci]=gn[ci]-(cv[val]/len(db))*entropy(mdb)\n",
    "            #print(mdb)\n",
    "            #print('Entropy=',cv.index[val],' = ',entropy(mdb))\n",
    "        #print('Gain ',db.columns[ci],' = ',gn[ci])\n",
    "    return gn.index(max(gn))"
   ]
  },
  {
   "cell_type": "code",
   "execution_count": 159,
   "metadata": {},
   "outputs": [
    {
     "name": "stdout",
     "output_type": "stream",
     "text": [
      "1\n"
     ]
    }
   ],
   "source": [
    "print(gain(df))"
   ]
  },
  {
   "cell_type": "code",
   "execution_count": 187,
   "metadata": {},
   "outputs": [],
   "source": [
    "def id(cur,depth):\n",
    "    if entropy(cur)!=0:\n",
    "        spc=gain(cur)\n",
    "        print('\\t'*depth,'Splitting along ',cur.columns[spc])\n",
    "        cv=cur[cur.columns[spc]].value_counts()\n",
    "        for val in range(len(cv)):\n",
    "            mdb=cur[cur[cur.columns[spc]]==cv.index[val]]#.pop(cur.columns[spc])\n",
    "            print('\\t'*depth,'#',cv.index[val])#,'\\n',mdb)\n",
    "            id(mdb,depth+1)\n",
    "    else:\n",
    "        print('\\t'*depth,'Entropy is zero.')"
   ]
  },
  {
   "cell_type": "code",
   "execution_count": 188,
   "metadata": {},
   "outputs": [
    {
     "name": "stdout",
     "output_type": "stream",
     "text": [
      " Splitting along  Outlook\n",
      " # Rain\n",
      "\t Splitting along  Wind\n",
      "\t # Weak\n",
      "\t\t Entropy is zero.\n",
      "\t # Strong\n",
      "\t\t Entropy is zero.\n",
      " # Sunny\n",
      "\t Splitting along  Humidity\n",
      "\t # High\n",
      "\t\t Entropy is zero.\n",
      "\t # Normal\n",
      "\t\t Entropy is zero.\n",
      " # Overcast\n",
      "\t Entropy is zero.\n"
     ]
    }
   ],
   "source": [
    "id(df,0)"
   ]
  },
  {
   "cell_type": "code",
   "execution_count": 178,
   "metadata": {},
   "outputs": [
    {
     "name": "stdout",
     "output_type": "stream",
     "text": [
      "AAA\n"
     ]
    }
   ],
   "source": []
  },
  {
   "cell_type": "code",
   "execution_count": null,
   "metadata": {},
   "outputs": [],
   "source": []
  },
  {
   "cell_type": "code",
   "execution_count": null,
   "metadata": {
    "collapsed": true
   },
   "outputs": [],
   "source": []
  }
 ],
 "metadata": {
  "kernelspec": {
   "display_name": "Python 3",
   "language": "python",
   "name": "python3"
  },
  "language_info": {
   "codemirror_mode": {
    "name": "ipython",
    "version": 3
   },
   "file_extension": ".py",
   "mimetype": "text/x-python",
   "name": "python",
   "nbconvert_exporter": "python",
   "pygments_lexer": "ipython3",
   "version": "3.6.3"
  }
 },
 "nbformat": 4,
 "nbformat_minor": 2
}
